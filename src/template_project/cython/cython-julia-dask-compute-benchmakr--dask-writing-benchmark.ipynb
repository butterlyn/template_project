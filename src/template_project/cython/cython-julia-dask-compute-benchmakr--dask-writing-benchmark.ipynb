{
 "cells": [
  {
   "cell_type": "markdown",
   "metadata": {},
   "source": [
    "Julia calculation: 0.9 seconds"
   ]
  },
  {
   "cell_type": "code",
   "execution_count": 31,
   "metadata": {
    "notebookRunGroups": {
     "groupValue": ""
    }
   },
   "outputs": [
    {
     "ename": "SyntaxError",
     "evalue": "invalid decimal literal (1363628918.py, line 5)",
     "output_type": "error",
     "traceback": [
      "\u001b[1;36m  Cell \u001b[1;32mIn[31], line 5\u001b[1;36m\u001b[0m\n\u001b[1;33m    pi_estimate += sign / (2i + 1)\u001b[0m\n\u001b[1;37m                           ^\u001b[0m\n\u001b[1;31mSyntaxError\u001b[0m\u001b[1;31m:\u001b[0m invalid decimal literal\n"
     ]
    }
   ],
   "source": [
    "function calculate_pi(n)\n",
    "    pi_estimate = 0.0\n",
    "    sign = 1.0\n",
    "    for i in 0:n-1\n",
    "        pi_estimate += sign / (2i + 1)\n",
    "        sign = -sign\n",
    "    end\n",
    "    return 4 * pi_estimate\n",
    "end\n",
    "\n",
    "n = 1_000_000_000\n",
    "println(\"Pi estimate using $n iterations: \", calculate_pi(n))\n"
   ]
  },
  {
   "cell_type": "markdown",
   "metadata": {},
   "source": [
    "Python numpy calculation, 5 minutes 5 seconds."
   ]
  },
  {
   "cell_type": "code",
   "execution_count": 1,
   "metadata": {},
   "outputs": [
    {
     "name": "stdout",
     "output_type": "stream",
     "text": [
      "Pi estimate using 1000000000 iterations: 3.1415926525899134\n"
     ]
    }
   ],
   "source": [
    "import numpy as np\n",
    "\n",
    "# Define a function to generate the alternating sign sequence\n",
    "def alternating_sign(n):\n",
    "    # Generate a sequence of alternating -1 and 1 values\n",
    "    sign = np.ones(n)\n",
    "    sign[1::2] = -1\n",
    "    return sign\n",
    "\n",
    "# Define a function to calculate pi using the Leibniz algorithm\n",
    "def calculate_pi(n):\n",
    "    # Generate the series of terms using a NumPy array\n",
    "    i = np.arange(n)\n",
    "    sign = alternating_sign(n)\n",
    "    term = np.where(sign == 1, 1 / (2 * i + 1), -1 / (2 * i + 1))\n",
    "\n",
    "    # Sum the terms\n",
    "    pi_estimate = 4 * np.sum(term)\n",
    "\n",
    "    return pi_estimate\n",
    "\n",
    "# Call the calculate_pi function with n = 1000000\n",
    "n = 1_000_000_000\n",
    "pi_estimate = calculate_pi(n)\n",
    "print(f\"Pi estimate using {n} iterations: {pi_estimate}\")"
   ]
  },
  {
   "cell_type": "code",
   "execution_count": 3,
   "metadata": {},
   "outputs": [],
   "source": [
    "%load_ext cython"
   ]
  },
  {
   "cell_type": "markdown",
   "metadata": {},
   "source": [
    "Cython, very simple notation and while loop, not imporable, 0.1 seconds"
   ]
  },
  {
   "cell_type": "code",
   "execution_count": 29,
   "metadata": {},
   "outputs": [],
   "source": [
    "%%cython\n",
    "\n",
    "from cpython cimport array\n",
    "from libc.math cimport fabs\n",
    "import numpy as np\n",
    "cimport numpy as np\n",
    "\n",
    "\n",
    "# Define a function to generate the alternating sign sequence\n",
    "cdef np.ndarray[np.int32_t] _cython_alternating_sign(int n):\n",
    "    # Generate a sequence of alternating -1 and 1 values\n",
    "    cdef np.ndarray[np.int32_t, ndim=1] sign = np.ones(n, dtype=np.int32)\n",
    "    sign[1::2] = -1\n",
    "    return sign\n",
    "\n",
    "\n",
    "# Define a function to calculate pi using the Leibniz algorithm\n",
    "def cython_calculate_pi(int n) -> float:\n",
    "    # Generate the series of terms using a NumPy array\n",
    "    cdef np.ndarray[np.int32_t] i = np.arange(n, dtype=np.int32)\n",
    "    cdef np.ndarray[np.int32_t] sign = _cython_alternating_sign(n)\n",
    "    cdef np.ndarray[double] term = np.where(sign == 1, 1 / (2 * i + 1), -1 / (2 * i + 1))\n",
    "\n",
    "    # Sum the terms\n",
    "    cdef double pi_estimate = 4 * np.sum(term)\n",
    "\n",
    "    # Convert the pi_estimate to a C double\n",
    "    cdef double c_pi_estimate = pi_estimate\n",
    "\n",
    "    # Call the fabs function from the C math library using ctypes\n",
    "    cdef double c_abs_pi_estimate = fabs(c_pi_estimate)\n",
    "\n",
    "    return c_abs_pi_estimate\n",
    "\n",
    "n = 1_000_000_000\n",
    "pi_estimate = cython_calculate_pi(n)\n",
    "print(f\"Pi estimate using {n} iterations: {pi_estimate}\")"
   ]
  },
  {
   "cell_type": "markdown",
   "metadata": {},
   "source": [
    "0.1 second Cython, simple typehinging and importable"
   ]
  },
  {
   "cell_type": "code",
   "execution_count": 14,
   "metadata": {},
   "outputs": [],
   "source": [
    "%%cython\n",
    "\n",
    "from libc.math cimport pow\n",
    "from libc.stdlib cimport malloc, free\n",
    "\n",
    "# Define a function to calculate pi using the Leibniz algorithm\n",
    "def calculate_pi(int n):\n",
    "    # Generate the series of terms using a dynamically allocated array\n",
    "    cdef double* term = <double*>malloc(n * sizeof(double))\n",
    "    cdef double sign = 1.0\n",
    "    cdef int i\n",
    "    for i in range(n):\n",
    "        term[i] = sign / (2 * i + 1)\n",
    "        sign = -sign\n",
    "\n",
    "    # Sum the terms\n",
    "    cdef long double pi_estimate = 4 * 0\n",
    "    for i in range(n):\n",
    "        pi_estimate += term[i]\n",
    "\n",
    "    # Free the dynamically allocated array\n",
    "    free(term)\n",
    "\n",
    "    return pi_estimate\n",
    "\n",
    "\n",
    "# Call the calculate_pi function with n = 1000000\n",
    "cdef int n = 10000000000\n",
    "cdef double pi_estimate = calculate_pi(n)\n",
    "print(pi_estimate)"
   ]
  },
  {
   "cell_type": "markdown",
   "metadata": {},
   "source": [
    "Cython complex notation 0.1 seconds"
   ]
  },
  {
   "cell_type": "code",
   "execution_count": 13,
   "metadata": {},
   "outputs": [],
   "source": [
    "%%cython\n",
    "\n",
    "from libc.math cimport pow\n",
    "from libc.stdlib cimport malloc, free\n",
    "from time cimport clock, CLOCKS_PER_SEC\n",
    "\n",
    "# Define a function to generate the alternating sign sequence\n",
    "cdef void alternating_sign(int n, double* sign):\n",
    "    # Generate a sequence of alternating -1 and 1 values\n",
    "    cdef int i\n",
    "    for i in range(n):\n",
    "        sign[i] = pow(-1, i)\n",
    "\n",
    "# Define a function to calculate pi using the Leibniz algorithm\n",
    "def calculate_pi(int n):\n",
    "    # Generate the series of terms using a dynamically allocated array\n",
    "    cdef double* term = <double*>malloc(n * sizeof(double))\n",
    "    cdef double* sign = <double*>malloc(n * sizeof(double))\n",
    "    alternating_sign(n, sign)\n",
    "    cdef int i\n",
    "    for i in range(n):\n",
    "        term[i] = sign[i] / (2 * i + 1)\n",
    "\n",
    "    # Sum the terms\n",
    "    cdef double pi_estimate = 4 * 0\n",
    "    for i in range(n):\n",
    "        pi_estimate += term[i]\n",
    "\n",
    "    # Free the dynamically allocated arrays\n",
    "    free(term)\n",
    "    free(sign)\n",
    "\n",
    "    return pi_estimate\n",
    "\n",
    "cdef clock_t begin = clock()\n",
    "# Call the calculate_pi function with n = 1000000\n",
    "cdef int n = 10000000000\n",
    "cdef double pi_estimate = calculate_pi(n)\n",
    "print(\"Pi estimate using %d iterations: %f\" % (n, pi_estimate))\n",
    "cdef clock_t end = clock()\n",
    "\n",
    "cdef double time_spent = (<double>(end - begin)) / CLOCKS_PER_SEC\n",
    "print(\"Time spent: %f\" % time_spent)"
   ]
  },
  {
   "cell_type": "markdown",
   "metadata": {},
   "source": [
    "Python dask array: 21.1 seconds"
   ]
  },
  {
   "cell_type": "code",
   "execution_count": 40,
   "metadata": {},
   "outputs": [
    {
     "name": "stdout",
     "output_type": "stream",
     "text": [
      "Pi estimate using 1000000000 iterations: 3.1415926525897957\n"
     ]
    }
   ],
   "source": [
    "import dask.array as da\n",
    "\n",
    "# Define a function to generate the alternating sign sequence\n",
    "def alternating_sign(n):\n",
    "    # Generate a sequence of alternating -1 and 1 values\n",
    "    sign = da.ones(n)\n",
    "    sign[1::2] = -1\n",
    "    return sign\n",
    "\n",
    "# Define a function to calculate pi using the Leibniz algorithm\n",
    "def calculate_pi(n):\n",
    "    # Generate the series of terms using a Dask array\n",
    "    i = da.arange(n)\n",
    "    sign = alternating_sign(n)\n",
    "    term = da.where(sign == 1, 1 / (2 * i + 1), -1 / (2 * i + 1))\n",
    "\n",
    "    # Sum the terms\n",
    "    pi_estimate = 4 * term.sum()\n",
    "\n",
    "    return pi_estimate\n",
    "\n",
    "# Call the calculate_pi function with n = 1000000\n",
    "n = 1000000000\n",
    "pi_estimate = calculate_pi(n)\n",
    "print(f\"Pi estimate using {n} iterations: {pi_estimate.compute()}\")"
   ]
  },
  {
   "cell_type": "markdown",
   "metadata": {},
   "source": [
    "C language manually coded - 6.9 seconds:"
   ]
  },
  {
   "cell_type": "code",
   "execution_count": null,
   "metadata": {},
   "outputs": [],
   "source": [
    "#include<stdio.h>\n",
    "#include<conio.h>\n",
    "#include<math.h>\n",
    "#include<time.h>\n",
    "\n",
    "\n",
    "int main()\n",
    "{\n",
    "\tclock_t start, end;\n",
    "\tstart = clock();\n",
    "\tlong int i;\n",
    "\tlong int n = 1000000000;\n",
    "\tdouble sum = 0.0, term, pi;\n",
    "\t/* Applying Leibniz Formula */\n",
    "\tfor (i = 0; i < n; i++)\n",
    "\t{\n",
    "\t\tterm = pow(-1, i) / (2 * i + 1);\n",
    "\t\tsum += term;\n",
    "\t}\n",
    "\tpi = 4 * sum;\n",
    "\tprintf(\"\\nPI = %.6lf\", pi);\n",
    "    end = clock();\n",
    "\tdouble cpu_time_used = ((double)(end - start)) / CLOCKS_PER_SEC;\n",
    "\tprintf(\"\\nTime taken: %lf seconds\", cpu_time_used);\n",
    "\treturn 0;\n",
    "}"
   ]
  },
  {
   "cell_type": "code",
   "execution_count": 11,
   "metadata": {},
   "outputs": [
    {
     "name": "stdout",
     "output_type": "stream",
     "text": [
      "Dask DataFrame Structure:\n",
      "                   col1     col2     col3     col4     col5     col6     col7     col8     col9    col10\n",
      "npartitions=10                                                                                          \n",
      "0               float64  float64  float64  float64  float64  float64  float64  float64  float64  float64\n",
      "1000000             ...      ...      ...      ...      ...      ...      ...      ...      ...      ...\n",
      "...                 ...      ...      ...      ...      ...      ...      ...      ...      ...      ...\n",
      "9000000             ...      ...      ...      ...      ...      ...      ...      ...      ...      ...\n",
      "9999999             ...      ...      ...      ...      ...      ...      ...      ...      ...      ...\n",
      "Dask Name: rename, 3 graph layers\n"
     ]
    }
   ],
   "source": [
    "import pandas\n",
    "import dask.array as da\n",
    "import dask.dataframe as dd\n",
    "from pathlib import Path\n",
    "\n",
    "# Generate a large numpy array of random values\n",
    "x = da.random.random(size=(100_000_00, 10), chunks=(100_0000, 10))\n",
    "\n",
    "\n",
    "# Define a function to apply to each row\n",
    "def my_func(row):\n",
    "    return row.sum()\n",
    "\n",
    "# Apply the function to each row using map_rows\n",
    "# result = da.apply_along_axis(my_func, axis=1, arr=x)\n",
    "ddf = dd.from_dask_array(x)\n",
    "# # add column names to ddf\n",
    "ddf.columns = ['col1', 'col2', 'col3', 'col4', 'col5', 'col6', 'col7', 'col8','col9', 'col10']\n",
    "ddf.compute()\n",
    "# print(Path.cwd())\n",
    "dd.to_parquet(df=ddf, path='resasdgasdfasdafagasgasfsagsdfasdgfdsuasasfasdfdfasfasasdgsagfasflt.parquet')\n",
    "print(ddf)"
   ]
  },
  {
   "cell_type": "code",
   "execution_count": 1,
   "metadata": {},
   "outputs": [
    {
     "name": "stdout",
     "output_type": "stream",
     "text": [
      "  first_name  last_name  age  amount_1 amount_2\n",
      "0     Sigrid    Mannock   27      7.17     8.06\n",
      "1        Joe    Hinners   31      1.90        ?\n",
      "2  Theodoric     Rivers   36      1.11      5.9\n",
      "3    Kennedy    Donnell   53      1.41        ?\n",
      "4    Beatrix    Parlett   48      6.69        ?\n",
      "5    Olimpia   Guenther   36      4.62     7.48\n",
      "6     Grange      Douce   40      1.01     4.37\n",
      "7     Sallee  Johnstone   34      4.88        ?\n"
     ]
    }
   ],
   "source": [
    "import pandas as pd\n",
    "data = {'first_name': ['Sigrid', 'Joe', 'Theodoric','Kennedy', 'Beatrix', 'Olimpia', 'Grange', 'Sallee'],\n",
    "        'last_name': ['Mannock', 'Hinners', 'Rivers', 'Donnell', 'Parlett', 'Guenther', 'Douce', 'Johnstone'],\n",
    "        'age': [27, 31, 36, 53, 48, 36, 40, 34],\n",
    "        'amount_1': [7.17, 1.90, 1.11, 1.41, 6.69, 4.62, 1.01, 4.88],\n",
    "        'amount_2': [8.06,  \"?\", 5.90,  \"?\",  \"?\", 7.48, 4.37,  \"?\"]}\n",
    "datosDataFrame = pd.DataFrame(data)\n",
    "print(datosDataFrame)\n",
    "datosDataFrame.to_csv('example.csv')"
   ]
  }
 ],
 "metadata": {
  "kernelspec": {
   "display_name": "base",
   "language": "python",
   "name": "python3"
  },
  "language_info": {
   "codemirror_mode": {
    "name": "ipython",
    "version": 3
   },
   "file_extension": ".py",
   "mimetype": "text/x-python",
   "name": "python",
   "nbconvert_exporter": "python",
   "pygments_lexer": "ipython3",
   "version": "3.10.12"
  },
  "orig_nbformat": 4
 },
 "nbformat": 4,
 "nbformat_minor": 2
}
