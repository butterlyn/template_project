{
 "cells": [
  {
   "cell_type": "markdown",
   "metadata": {},
   "source": [
    "Julia calculation: 0.9 seconds"
   ]
  },
  {
   "cell_type": "code",
   "execution_count": 6,
   "metadata": {
    "notebookRunGroups": {
     "groupValue": ""
    }
   },
   "outputs": [
    {
     "name": "stdout",
     "output_type": "stream",
     "text": [
      "Pi estimate using 1000000000 iterations: 3.1415926525880504\n"
     ]
    }
   ],
   "source": [
    "function calculate_pi(n)\n",
    "    pi_estimate = 0.0\n",
    "    sign = 1.0\n",
    "    for i in 0:n-1\n",
    "        pi_estimate += sign / (2i + 1)\n",
    "        sign = -sign\n",
    "    end\n",
    "    return 4 * pi_estimate\n",
    "end\n",
    "\n",
    "n = 1_000_000_000\n",
    "println(\"Pi estimate using $n iterations: \", calculate_pi(n))\n"
   ]
  },
  {
   "cell_type": "markdown",
   "metadata": {},
   "source": [
    "Python numpy calculation, 5 minutes 5 seconds."
   ]
  },
  {
   "cell_type": "code",
   "execution_count": 1,
   "metadata": {},
   "outputs": [
    {
     "name": "stdout",
     "output_type": "stream",
     "text": [
      "Pi estimate using 1000000000 iterations: 3.1415926525899134\n"
     ]
    }
   ],
   "source": [
    "import numpy as np\n",
    "\n",
    "# Define a function to generate the alternating sign sequence\n",
    "def alternating_sign(n):\n",
    "    # Generate a sequence of alternating -1 and 1 values\n",
    "    sign = np.ones(n)\n",
    "    sign[1::2] = -1\n",
    "    return sign\n",
    "\n",
    "# Define a function to calculate pi using the Leibniz algorithm\n",
    "def calculate_pi(n):\n",
    "    # Generate the series of terms using a NumPy array\n",
    "    i = np.arange(n)\n",
    "    sign = alternating_sign(n)\n",
    "    term = np.where(sign == 1, 1 / (2 * i + 1), -1 / (2 * i + 1))\n",
    "\n",
    "    # Sum the terms\n",
    "    pi_estimate = 4 * np.sum(term)\n",
    "\n",
    "    return pi_estimate\n",
    "\n",
    "# Call the calculate_pi function with n = 1000000\n",
    "n = 1_000_000_000\n",
    "pi_estimate = calculate_pi(n)\n",
    "print(f\"Pi estimate using {n} iterations: {pi_estimate}\")"
   ]
  },
  {
   "cell_type": "code",
   "execution_count": 1,
   "metadata": {},
   "outputs": [],
   "source": [
    "%load_ext cython"
   ]
  },
  {
   "cell_type": "markdown",
   "metadata": {},
   "source": [
    "Cython, very simple notation and while loop, not imporable, 0.1 seconds"
   ]
  },
  {
   "cell_type": "code",
   "execution_count": 3,
   "metadata": {},
   "outputs": [
    {
     "name": "stdout",
     "output_type": "stream",
     "text": [
      "Content of stdout:\n",
      "_cython_magic_08201700551ca11b4f267964c65baaec4861dcdf.c\n",
      "   Creating library C:\\Users\\nbutterly\\.ipython\\cython\\Users\\nbutterly\\.ipython\\cython\\_cython_magic_08201700551ca11b4f267964c65baaec4861dcdf.cp310-win_amd64.lib and object C:\\Users\\nbutterly\\.ipython\\cython\\Users\\nbutterly\\.ipython\\cython\\_cython_magic_08201700551ca11b4f267964c65baaec4861dcdf.cp310-win_amd64.exp\n",
      "Generating code\n",
      "Finished generating code"
     ]
    },
    {
     "ename": "OverflowError",
     "evalue": "Python int too large to convert to C long",
     "output_type": "error",
     "traceback": [
      "\u001b[1;31m---------------------------------------------------------------------------\u001b[0m",
      "\u001b[1;31mOverflowError\u001b[0m                             Traceback (most recent call last)",
      "\u001b[1;32mc:\\Users\\nbutterly\\Documents\\Coding_2\\Untitled-1.ipynb Cell 7\u001b[0m line \u001b[0;36m1\n\u001b[1;32m----> <a href='vscode-notebook-cell:/c%3A/Users/nbutterly/Documents/Coding_2/Untitled-1.ipynb#W3sZmlsZQ%3D%3D?line=0'>1</a>\u001b[0m get_ipython()\u001b[39m.\u001b[39;49mrun_cell_magic(\u001b[39m'\u001b[39;49m\u001b[39mcython\u001b[39;49m\u001b[39m'\u001b[39;49m, \u001b[39m'\u001b[39;49m\u001b[39m'\u001b[39;49m, \u001b[39m\"\u001b[39;49m\u001b[39m\\n\u001b[39;49;00m\u001b[39mcdef long int intsum(int[:] values):\u001b[39;49m\u001b[39m\\n\u001b[39;49;00m\u001b[39m    cdef long int sum = 0\u001b[39;49m\u001b[39m\\n\u001b[39;49;00m\u001b[39m    cdef int *ptr = &values[0]\u001b[39;49m\u001b[39m\\n\u001b[39;49;00m\u001b[39m    cdef long int i = 0\u001b[39;49m\u001b[39m\\n\u001b[39;49;00m\u001b[39m    while i < len(values):\u001b[39;49m\u001b[39m\\n\u001b[39;49;00m\u001b[39m        sum += ptr[i]\u001b[39;49m\u001b[39m\\n\u001b[39;49;00m\u001b[39m        i += 1\u001b[39;49m\u001b[39m\\n\u001b[39;49;00m\u001b[39m    return sum\u001b[39;49m\u001b[39m\\n\u001b[39;49;00m\u001b[39m\\n\u001b[39;49;00m\u001b[39mimport array\u001b[39;49m\u001b[39m\\n\u001b[39;49;00m\u001b[39m\\n\u001b[39;49;00m\u001b[39m# Define the input array with 1 billion integers\u001b[39;49m\u001b[39m\\n\u001b[39;49;00m\u001b[39mvalues = array.array(\u001b[39;49m\u001b[39m'\u001b[39;49m\u001b[39mi\u001b[39;49m\u001b[39m'\u001b[39;49m\u001b[39m, range(1_000_000_0000))\u001b[39;49m\u001b[39m\\n\u001b[39;49;00m\u001b[39m\\n\u001b[39;49;00m\u001b[39m# Call the intsum function with the input array\u001b[39;49m\u001b[39m\\n\u001b[39;49;00m\u001b[39mresult = intsum(values)\u001b[39;49m\u001b[39m\\n\u001b[39;49;00m\u001b[39m\\n\u001b[39;49;00m\u001b[39m# Print the result to the console\u001b[39;49m\u001b[39m\\n\u001b[39;49;00m\u001b[39mprint(result)\u001b[39;49m\u001b[39m\\n\u001b[39;49;00m\u001b[39m\"\u001b[39;49m)\n",
      "File \u001b[1;32mc:\\Users\\nbutterly\\AppData\\Local\\anaconda3\\lib\\site-packages\\IPython\\core\\interactiveshell.py:2493\u001b[0m, in \u001b[0;36mInteractiveShell.run_cell_magic\u001b[1;34m(self, magic_name, line, cell)\u001b[0m\n\u001b[0;32m   2491\u001b[0m \u001b[39mwith\u001b[39;00m \u001b[39mself\u001b[39m\u001b[39m.\u001b[39mbuiltin_trap:\n\u001b[0;32m   2492\u001b[0m     args \u001b[39m=\u001b[39m (magic_arg_s, cell)\n\u001b[1;32m-> 2493\u001b[0m     result \u001b[39m=\u001b[39m fn(\u001b[39m*\u001b[39margs, \u001b[39m*\u001b[39m\u001b[39m*\u001b[39mkwargs)\n\u001b[0;32m   2495\u001b[0m \u001b[39m# The code below prevents the output from being displayed\u001b[39;00m\n\u001b[0;32m   2496\u001b[0m \u001b[39m# when using magics with decorator @output_can_be_silenced\u001b[39;00m\n\u001b[0;32m   2497\u001b[0m \u001b[39m# when the last Python token in the expression is a ';'.\u001b[39;00m\n\u001b[0;32m   2498\u001b[0m \u001b[39mif\u001b[39;00m \u001b[39mgetattr\u001b[39m(fn, magic\u001b[39m.\u001b[39mMAGIC_OUTPUT_CAN_BE_SILENCED, \u001b[39mFalse\u001b[39;00m):\n",
      "File \u001b[1;32mc:\\Users\\nbutterly\\AppData\\Local\\anaconda3\\lib\\site-packages\\Cython\\Build\\IpythonMagic.py:360\u001b[0m, in \u001b[0;36mCythonMagics.cython\u001b[1;34m(self, line, cell)\u001b[0m\n\u001b[0;32m    357\u001b[0m \u001b[39m# Build seems ok, but we might still want to show any warnings that occurred\u001b[39;00m\n\u001b[0;32m    358\u001b[0m print_compiler_output(get_stdout(), get_stderr(), sys\u001b[39m.\u001b[39mstdout)\n\u001b[1;32m--> 360\u001b[0m module \u001b[39m=\u001b[39m imp\u001b[39m.\u001b[39;49mload_dynamic(module_name, module_path)\n\u001b[0;32m    361\u001b[0m \u001b[39mself\u001b[39m\u001b[39m.\u001b[39m_import_all(module)\n\u001b[0;32m    363\u001b[0m \u001b[39mif\u001b[39;00m args\u001b[39m.\u001b[39mannotate:\n",
      "File \u001b[1;32mc:\\Users\\nbutterly\\AppData\\Local\\anaconda3\\lib\\imp.py:343\u001b[0m, in \u001b[0;36mload_dynamic\u001b[1;34m(name, path, file)\u001b[0m\n\u001b[0;32m    339\u001b[0m \u001b[39m# Issue #24748: Skip the sys.modules check in _load_module_shim;\u001b[39;00m\n\u001b[0;32m    340\u001b[0m \u001b[39m# always load new extension\u001b[39;00m\n\u001b[0;32m    341\u001b[0m spec \u001b[39m=\u001b[39m importlib\u001b[39m.\u001b[39mmachinery\u001b[39m.\u001b[39mModuleSpec(\n\u001b[0;32m    342\u001b[0m     name\u001b[39m=\u001b[39mname, loader\u001b[39m=\u001b[39mloader, origin\u001b[39m=\u001b[39mpath)\n\u001b[1;32m--> 343\u001b[0m \u001b[39mreturn\u001b[39;00m _load(spec)\n",
      "File \u001b[1;32m<frozen importlib._bootstrap>:719\u001b[0m, in \u001b[0;36m_load\u001b[1;34m(spec)\u001b[0m\n",
      "File \u001b[1;32m<frozen importlib._bootstrap>:688\u001b[0m, in \u001b[0;36m_load_unlocked\u001b[1;34m(spec)\u001b[0m\n",
      "File \u001b[1;32m<frozen importlib._bootstrap_external>:1184\u001b[0m, in \u001b[0;36mexec_module\u001b[1;34m(self, module)\u001b[0m\n",
      "File \u001b[1;32m<frozen importlib._bootstrap>:241\u001b[0m, in \u001b[0;36m_call_with_frames_removed\u001b[1;34m(f, *args, **kwds)\u001b[0m\n",
      "File \u001b[1;32m_cython_magic_08201700551ca11b4f267964c65baaec4861dcdf.pyx:14\u001b[0m, in \u001b[0;36minit _cython_magic_08201700551ca11b4f267964c65baaec4861dcdf\u001b[1;34m()\u001b[0m\n",
      "\u001b[1;31mOverflowError\u001b[0m: Python int too large to convert to C long"
     ]
    }
   ],
   "source": [
    "%%cython\n",
    "\n",
    "cdef long int intsum(int[:] values):\n",
    "    cdef long int sum = 0\n",
    "    cdef int *ptr = &values[0]\n",
    "    cdef long int i = 0\n",
    "    while i < len(values):\n",
    "        sum += ptr[i]\n",
    "        i += 1\n",
    "    return sum\n",
    "\n",
    "import array\n",
    "\n",
    "# Define the input array with 1 billion integers\n",
    "values = array.array('i', range(1_000_000_0000))\n",
    "\n",
    "# Call the intsum function with the input array\n",
    "result = intsum(values)\n",
    "\n",
    "# Print the result to the console\n",
    "print(result)"
   ]
  },
  {
   "cell_type": "markdown",
   "metadata": {},
   "source": [
    "0.1 second Cython, simple typehinging and importable"
   ]
  },
  {
   "cell_type": "code",
   "execution_count": 17,
   "metadata": {},
   "outputs": [],
   "source": [
    "%%cython\n",
    "\n",
    "from libc.math cimport pow\n",
    "from libc.stdlib cimport malloc, free\n",
    "\n",
    "# Define a function to calculate pi using the Leibniz algorithm\n",
    "def calculate_pi(int n):\n",
    "    # Generate the series of terms using a dynamically allocated array\n",
    "    cdef double* term = <double*>malloc(n * sizeof(double))\n",
    "    cdef double sign = 1.0\n",
    "    cdef int i\n",
    "    for i in range(n):\n",
    "        term[i] = sign / (2 * i + 1)\n",
    "        sign = -sign\n",
    "\n",
    "    # Sum the terms\n",
    "    cdef long double pi_estimate = 4 * 0\n",
    "    for i in range(n):\n",
    "        pi_estimate += term[i]\n",
    "\n",
    "    # Free the dynamically allocated array\n",
    "    free(term)\n",
    "\n",
    "    return pi_estimate\n",
    "\n",
    "\n",
    "# Call the calculate_pi function with n = 1000000\n",
    "cdef int n = 10000000000\n",
    "cdef double pi_estimate = calculate_pi(n)\n",
    "print(\"Pi estimate using %d iterations: %f\" % (n, pi_estimate))"
   ]
  },
  {
   "cell_type": "markdown",
   "metadata": {},
   "source": [
    "Cython complex notation 0.1 seconds"
   ]
  },
  {
   "cell_type": "code",
   "execution_count": 13,
   "metadata": {},
   "outputs": [],
   "source": [
    "%%cython\n",
    "\n",
    "from libc.math cimport pow\n",
    "from libc.stdlib cimport malloc, free\n",
    "from time cimport clock, CLOCKS_PER_SEC\n",
    "\n",
    "# Define a function to generate the alternating sign sequence\n",
    "cdef void alternating_sign(int n, double* sign):\n",
    "    # Generate a sequence of alternating -1 and 1 values\n",
    "    cdef int i\n",
    "    for i in range(n):\n",
    "        sign[i] = pow(-1, i)\n",
    "\n",
    "# Define a function to calculate pi using the Leibniz algorithm\n",
    "def calculate_pi(int n):\n",
    "    # Generate the series of terms using a dynamically allocated array\n",
    "    cdef double* term = <double*>malloc(n * sizeof(double))\n",
    "    cdef double* sign = <double*>malloc(n * sizeof(double))\n",
    "    alternating_sign(n, sign)\n",
    "    cdef int i\n",
    "    for i in range(n):\n",
    "        term[i] = sign[i] / (2 * i + 1)\n",
    "\n",
    "    # Sum the terms\n",
    "    cdef double pi_estimate = 4 * 0\n",
    "    for i in range(n):\n",
    "        pi_estimate += term[i]\n",
    "\n",
    "    # Free the dynamically allocated arrays\n",
    "    free(term)\n",
    "    free(sign)\n",
    "\n",
    "    return pi_estimate\n",
    "\n",
    "cdef clock_t begin = clock()\n",
    "# Call the calculate_pi function with n = 1000000\n",
    "cdef int n = 10000000000\n",
    "cdef double pi_estimate = calculate_pi(n)\n",
    "print(\"Pi estimate using %d iterations: %f\" % (n, pi_estimate))\n",
    "cdef clock_t end = clock()\n",
    "\n",
    "cdef double time_spent = (<double>(end - begin)) / CLOCKS_PER_SEC\n",
    "print(\"Time spent: %f\" % time_spent)"
   ]
  },
  {
   "cell_type": "markdown",
   "metadata": {},
   "source": [
    "Python dask array: 21.1 seconds"
   ]
  },
  {
   "cell_type": "code",
   "execution_count": 40,
   "metadata": {},
   "outputs": [
    {
     "name": "stdout",
     "output_type": "stream",
     "text": [
      "Pi estimate using 1000000000 iterations: 3.1415926525897957\n"
     ]
    }
   ],
   "source": [
    "import dask.array as da\n",
    "\n",
    "# Define a function to generate the alternating sign sequence\n",
    "def alternating_sign(n):\n",
    "    # Generate a sequence of alternating -1 and 1 values\n",
    "    sign = da.ones(n)\n",
    "    sign[1::2] = -1\n",
    "    return sign\n",
    "\n",
    "# Define a function to calculate pi using the Leibniz algorithm\n",
    "def calculate_pi(n):\n",
    "    # Generate the series of terms using a Dask array\n",
    "    i = da.arange(n)\n",
    "    sign = alternating_sign(n)\n",
    "    term = da.where(sign == 1, 1 / (2 * i + 1), -1 / (2 * i + 1))\n",
    "\n",
    "    # Sum the terms\n",
    "    pi_estimate = 4 * term.sum()\n",
    "\n",
    "    return pi_estimate\n",
    "\n",
    "# Call the calculate_pi function with n = 1000000\n",
    "n = 1000000000\n",
    "pi_estimate = calculate_pi(n)\n",
    "print(f\"Pi estimate using {n} iterations: {pi_estimate.compute()}\")"
   ]
  },
  {
   "cell_type": "markdown",
   "metadata": {},
   "source": [
    "C language manually coded - 6.9 seconds:"
   ]
  },
  {
   "cell_type": "code",
   "execution_count": null,
   "metadata": {},
   "outputs": [],
   "source": [
    "#include<stdio.h>\n",
    "#include<conio.h>\n",
    "#include<math.h>\n",
    "#include<time.h>\n",
    "\n",
    "\n",
    "int main()\n",
    "{\n",
    "\tclock_t start, end;\n",
    "\tstart = clock();\n",
    "\tlong int i;\n",
    "\tlong int n = 1000000000;\n",
    "\tdouble sum = 0.0, term, pi;\n",
    "\t/* Applying Leibniz Formula */\n",
    "\tfor (i = 0; i < n; i++)\n",
    "\t{\n",
    "\t\tterm = pow(-1, i) / (2 * i + 1);\n",
    "\t\tsum += term;\n",
    "\t}\n",
    "\tpi = 4 * sum;\n",
    "\tprintf(\"\\nPI = %.6lf\", pi);\n",
    "    end = clock();\n",
    "\tdouble cpu_time_used = ((double)(end - start)) / CLOCKS_PER_SEC;\n",
    "\tprintf(\"\\nTime taken: %lf seconds\", cpu_time_used);\n",
    "\treturn 0;\n",
    "}"
   ]
  },
  {
   "cell_type": "code",
   "execution_count": 11,
   "metadata": {},
   "outputs": [
    {
     "name": "stdout",
     "output_type": "stream",
     "text": [
      "Dask DataFrame Structure:\n",
      "                   col1     col2     col3     col4     col5     col6     col7     col8     col9    col10\n",
      "npartitions=10                                                                                          \n",
      "0               float64  float64  float64  float64  float64  float64  float64  float64  float64  float64\n",
      "1000000             ...      ...      ...      ...      ...      ...      ...      ...      ...      ...\n",
      "...                 ...      ...      ...      ...      ...      ...      ...      ...      ...      ...\n",
      "9000000             ...      ...      ...      ...      ...      ...      ...      ...      ...      ...\n",
      "9999999             ...      ...      ...      ...      ...      ...      ...      ...      ...      ...\n",
      "Dask Name: rename, 3 graph layers\n"
     ]
    }
   ],
   "source": [
    "import pandas\n",
    "import dask.array as da\n",
    "import dask.dataframe as dd\n",
    "from pathlib import Path\n",
    "\n",
    "# Generate a large numpy array of random values\n",
    "x = da.random.random(size=(100_000_00, 10), chunks=(100_0000, 10))\n",
    "\n",
    "\n",
    "# Define a function to apply to each row\n",
    "def my_func(row):\n",
    "    return row.sum()\n",
    "\n",
    "# Apply the function to each row using map_rows\n",
    "# result = da.apply_along_axis(my_func, axis=1, arr=x)\n",
    "ddf = dd.from_dask_array(x)\n",
    "# # add column names to ddf\n",
    "ddf.columns = ['col1', 'col2', 'col3', 'col4', 'col5', 'col6', 'col7', 'col8','col9', 'col10']\n",
    "ddf.compute()\n",
    "# print(Path.cwd())\n",
    "dd.to_parquet(df=ddf, path='resasdgasdfasdafagasgasfsagsdfasdgfdsuasasfasdfdfasfasasdgsagfasflt.parquet')\n",
    "print(ddf)"
   ]
  },
  {
   "cell_type": "code",
   "execution_count": 1,
   "metadata": {},
   "outputs": [
    {
     "name": "stdout",
     "output_type": "stream",
     "text": [
      "  first_name  last_name  age  amount_1 amount_2\n",
      "0     Sigrid    Mannock   27      7.17     8.06\n",
      "1        Joe    Hinners   31      1.90        ?\n",
      "2  Theodoric     Rivers   36      1.11      5.9\n",
      "3    Kennedy    Donnell   53      1.41        ?\n",
      "4    Beatrix    Parlett   48      6.69        ?\n",
      "5    Olimpia   Guenther   36      4.62     7.48\n",
      "6     Grange      Douce   40      1.01     4.37\n",
      "7     Sallee  Johnstone   34      4.88        ?\n"
     ]
    }
   ],
   "source": [
    "import pandas as pd\n",
    "data = {'first_name': ['Sigrid', 'Joe', 'Theodoric','Kennedy', 'Beatrix', 'Olimpia', 'Grange', 'Sallee'],\n",
    "        'last_name': ['Mannock', 'Hinners', 'Rivers', 'Donnell', 'Parlett', 'Guenther', 'Douce', 'Johnstone'],\n",
    "        'age': [27, 31, 36, 53, 48, 36, 40, 34],\n",
    "        'amount_1': [7.17, 1.90, 1.11, 1.41, 6.69, 4.62, 1.01, 4.88],\n",
    "        'amount_2': [8.06,  \"?\", 5.90,  \"?\",  \"?\", 7.48, 4.37,  \"?\"]}\n",
    "datosDataFrame = pd.DataFrame(data)\n",
    "print(datosDataFrame)\n",
    "datosDataFrame.to_csv('example.csv')"
   ]
  }
 ],
 "metadata": {
  "kernelspec": {
   "display_name": "base",
   "language": "python",
   "name": "python3"
  },
  "language_info": {
   "codemirror_mode": {
    "name": "ipython",
    "version": 3
   },
   "file_extension": ".py",
   "mimetype": "text/x-python",
   "name": "python",
   "nbconvert_exporter": "python",
   "pygments_lexer": "ipython3",
   "version": "3.10.12"
  },
  "orig_nbformat": 4
 },
 "nbformat": 4,
 "nbformat_minor": 2
}
